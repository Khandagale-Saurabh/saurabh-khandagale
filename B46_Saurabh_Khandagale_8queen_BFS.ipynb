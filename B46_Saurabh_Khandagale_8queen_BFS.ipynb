{
  "nbformat": 4,
  "nbformat_minor": 0,
  "metadata": {
    "colab": {
      "name": "B46_Saurabh_Khandagale_8queen_BFS.ipynb",
      "provenance": []
    },
    "kernelspec": {
      "name": "python3",
      "display_name": "Python 3"
    },
    "language_info": {
      "name": "python"
    }
  },
  "cells": [
    {
      "cell_type": "code",
      "metadata": {
        "colab": {
          "base_uri": "https://localhost:8080/"
        },
        "id": "wxgDqyaIx_C9",
        "outputId": "edd04450-27e0-4c61-a557-696b5ffcabab"
      },
      "source": [
        "# Saurabh Khandagale \n",
        "# Roll:46\n",
        "#AIM:- Solve 8 Queen problem using BFS.\n",
        "\n",
        "from queue import Queue\n",
        "#importing queue\n",
        "\n",
        "\n",
        "def solve_bfs():\n",
        "    solutions = []\n",
        "    queue = Queue()\n",
        "    queue.put([])\n",
        " #working untill queue is not empty   \n",
        "    while not queue.empty():\n",
        "        solution = queue.get()\n",
        "        if getSolution(solution):\n",
        "            continue\n",
        "#in row storing lenght and appinding solution to it if loop reaches to last node            \n",
        "        row = len(solution)\n",
        "        if row == 8:\n",
        "            solutions.append(solution)\n",
        "            break\n",
        "        for col in range(8):\n",
        "            queen = (row, col)\n",
        "            queens = solution.copy()\n",
        "            queens.append(queen)\n",
        "            queue.put(queens)\n",
        "    return solutions\n",
        "\n",
        "#will get us solution\n",
        "def getSolution( queens):\n",
        "        for i in range(1, len(queens)):\n",
        "            for j in range(0, i):\n",
        "                a, b = queens[i]\n",
        "                c, d = queens[j]\n",
        "                if a == c or b == d or abs(a - c) == abs(b - d):\n",
        "                    return True\n",
        "        return False\n",
        "\n",
        "\n",
        "\n",
        " #calling function  \n",
        "\n",
        "print(\"Solve 8 Queen problem using BFS\")\n",
        "print(\"===================================================================\")  \n",
        "print(solve_bfs())\n",
        "\n",
        "print(\"===================================================================\")"
      ],
      "execution_count": 1,
      "outputs": [
        {
          "output_type": "stream",
          "text": [
            "Solve 8 Queen problem using BFS\n",
            "===================================================================\n",
            "[[(0, 0), (1, 4), (2, 7), (3, 5), (4, 2), (5, 6), (6, 1), (7, 3)]]\n",
            "===================================================================\n"
          ],
          "name": "stdout"
        }
      ]
    }
  ]
}